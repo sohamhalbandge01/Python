{
 "cells": [
  {
   "cell_type": "code",
   "execution_count": 2,
   "id": "6fed68d7-cc96-45ee-ac08-01e9b139c16d",
   "metadata": {},
   "outputs": [
    {
     "name": "stdin",
     "output_type": "stream",
     "text": [
      "Enter X:  10\n",
      "Enter Y:  20\n"
     ]
    },
    {
     "name": "stdout",
     "output_type": "stream",
     "text": [
      "Before Swapping\n",
      "x = 10\n",
      "y = 20\n",
      "After Swapping\n",
      "x = 20\n",
      "y = 10\n"
     ]
    }
   ],
   "source": [
    "# swap two variables\n",
    "\n",
    "x = int(input(\"Enter X: \"))\n",
    "y = int(input(\"Enter Y: \"))\n",
    "print(\"Before Swapping\")\n",
    "print('x =', x)\n",
    "print('y =', y)\n",
    "print(\"After Swapping\")\n",
    "x, y = y, x\n",
    "print('x =', x)\n",
    "print('y =', y)"
   ]
  },
  {
   "cell_type": "code",
   "execution_count": 3,
   "id": "ccd30421-555d-4ca7-bcc3-a77ef34f57e5",
   "metadata": {},
   "outputs": [
    {
     "name": "stdin",
     "output_type": "stream",
     "text": [
      "Enter the length of rectangle 10\n",
      "Enter the width of rectangle 20\n"
     ]
    },
    {
     "name": "stdout",
     "output_type": "stream",
     "text": [
      "Area = 200\n"
     ]
    }
   ],
   "source": [
    "# area of rectangle\n",
    "length = int(input(\"Enter the length of rectangle\"))\n",
    "width = int(input(\"Enter the width of rectangle\"))\n",
    "\n",
    "area = length * width\n",
    "print(\"Area =\", area)"
   ]
  },
  {
   "cell_type": "code",
   "execution_count": 4,
   "id": "21c740c8-ef8d-447d-8e11-a0ea765cc493",
   "metadata": {},
   "outputs": [
    {
     "name": "stdin",
     "output_type": "stream",
     "text": [
      "Enter the temperature in Celcius: 32\n"
     ]
    },
    {
     "name": "stdout",
     "output_type": "stream",
     "text": [
      "Temperature in Fahrenheit = 89.6\n"
     ]
    }
   ],
   "source": [
    "# celcius to fahrenheit convert\n",
    "celcius = float(input(\"Enter the temperature in Celcius:\"))\n",
    "fahrenheit = celcius * (9 / 5) + 32\n",
    "print(\"Temperature in Fahrenheit =\", fahrenheit)"
   ]
  },
  {
   "cell_type": "code",
   "execution_count": 6,
   "id": "a97f722d-5038-48db-b8d9-fa6377491d34",
   "metadata": {},
   "outputs": [
    {
     "name": "stdin",
     "output_type": "stream",
     "text": [
      "Enter the string: reddit\n"
     ]
    },
    {
     "name": "stdout",
     "output_type": "stream",
     "text": [
      "Length of string: 6\n"
     ]
    }
   ],
   "source": [
    "# length of a string\n",
    "str = input(\"Enter the string:\")\n",
    "print(\"Length of string:\", len(str))"
   ]
  },
  {
   "cell_type": "code",
   "execution_count": 10,
   "id": "7e38f6aa-c0fa-49e5-9a25-ce94b74e9a17",
   "metadata": {},
   "outputs": [
    {
     "name": "stdin",
     "output_type": "stream",
     "text": [
      "Enter the string: reddit\n"
     ]
    },
    {
     "name": "stdout",
     "output_type": "stream",
     "text": [
      "Vowels Count = 2\n"
     ]
    }
   ],
   "source": [
    "# count number of vowels in a string\n",
    "str = input(\"Enter the string:\")\n",
    "\n",
    "count = 0\n",
    "for i in str:\n",
    "    if i == 'a':\n",
    "        count += 1\n",
    "    elif i == 'e':\n",
    "        count += 1\n",
    "    elif i == 'i':\n",
    "        count += 1\n",
    "    elif i == 'o':\n",
    "        count += 1\n",
    "    elif i == 'u':\n",
    "        count += 1\n",
    "\n",
    "print(\"Vowels Count =\", count)"
   ]
  },
  {
   "cell_type": "code",
   "execution_count": 11,
   "id": "2f68676b-46ed-48bd-b57d-481ef26b53d4",
   "metadata": {},
   "outputs": [
    {
     "name": "stdin",
     "output_type": "stream",
     "text": [
      "Enter the string: reddit\n"
     ]
    },
    {
     "name": "stdout",
     "output_type": "stream",
     "text": [
      "Reversed String= tidder\n"
     ]
    }
   ],
   "source": [
    "# reverse a string\n",
    "str = input(\"Enter the string:\")\n",
    "\n",
    "print(\"Reversed String=\", str[::-1])"
   ]
  },
  {
   "cell_type": "code",
   "execution_count": 14,
   "id": "1e05e54e-d728-452d-8f4d-f30cc96f4f3c",
   "metadata": {},
   "outputs": [
    {
     "name": "stdin",
     "output_type": "stream",
     "text": [
      "Enter the string: racecar\n"
     ]
    },
    {
     "name": "stdout",
     "output_type": "stream",
     "text": [
      "Palindrome\n"
     ]
    }
   ],
   "source": [
    "# palindrome check\n",
    "str = input(\"Enter the string:\")\n",
    "\n",
    "if str == str[::-1]:\n",
    "    print(\"Palindrome\")\n",
    "else:\n",
    "    print(\"Not Palindrome\")"
   ]
  },
  {
   "cell_type": "code",
   "execution_count": 17,
   "id": "dfca1db6-4726-443b-8b88-2d835566578f",
   "metadata": {},
   "outputs": [
    {
     "name": "stdin",
     "output_type": "stream",
     "text": [
      "Enter the string: Hi Welcome To Python Class!\n"
     ]
    },
    {
     "name": "stdout",
     "output_type": "stream",
     "text": [
      "String after removing whitespaces = HiWelcomeToPythonClass!\n"
     ]
    }
   ],
   "source": [
    "# removes all the spaces from the string\n",
    "str = input(\"Enter the string:\")\n",
    "\n",
    "new_str = str.replace(\" \", \"\")\n",
    "print(\"String after removing whitespaces =\", new_str)"
   ]
  }
 ],
 "metadata": {
  "kernelspec": {
   "display_name": "Python 3 (ipykernel)",
   "language": "python",
   "name": "python3"
  },
  "language_info": {
   "codemirror_mode": {
    "name": "ipython",
    "version": 3
   },
   "file_extension": ".py",
   "mimetype": "text/x-python",
   "name": "python",
   "nbconvert_exporter": "python",
   "pygments_lexer": "ipython3",
   "version": "3.13.1"
  }
 },
 "nbformat": 4,
 "nbformat_minor": 5
}
