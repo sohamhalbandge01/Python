{
 "cells": [
  {
   "cell_type": "code",
   "execution_count": 1,
   "id": "2157a0e8-6272-4efa-81ca-ce7a6cbd0614",
   "metadata": {},
   "outputs": [
    {
     "data": {
      "text/plain": [
       "3"
      ]
     },
     "execution_count": 1,
     "metadata": {},
     "output_type": "execute_result"
    }
   ],
   "source": [
    "1 + 2"
   ]
  },
  {
   "cell_type": "code",
   "execution_count": 2,
   "id": "5523ba95-8f2a-4e6d-9cd0-b7aef7f40ae8",
   "metadata": {},
   "outputs": [],
   "source": [
    "a = 10"
   ]
  },
  {
   "cell_type": "code",
   "execution_count": 3,
   "id": "ae434bbd-0bb7-4ab1-b009-41dcbca2652a",
   "metadata": {},
   "outputs": [
    {
     "data": {
      "text/plain": [
       "10"
      ]
     },
     "execution_count": 3,
     "metadata": {},
     "output_type": "execute_result"
    }
   ],
   "source": [
    "a"
   ]
  },
  {
   "cell_type": "code",
   "execution_count": 4,
   "id": "42284447-e0f1-4519-a283-e4db1addd083",
   "metadata": {},
   "outputs": [],
   "source": [
    "sudh = 1232342343512"
   ]
  },
  {
   "cell_type": "code",
   "execution_count": 5,
   "id": "1d4aec26-5b9f-40b4-b777-31919bbbf7bb",
   "metadata": {},
   "outputs": [
    {
     "data": {
      "text/plain": [
       "1232342343512"
      ]
     },
     "execution_count": 5,
     "metadata": {},
     "output_type": "execute_result"
    }
   ],
   "source": [
    "sudh"
   ]
  },
  {
   "cell_type": "code",
   "execution_count": 6,
   "id": "6ae31e94-eaa9-4aed-96e7-e4fd5e9e0951",
   "metadata": {},
   "outputs": [
    {
     "data": {
      "text/plain": [
       "int"
      ]
     },
     "execution_count": 6,
     "metadata": {},
     "output_type": "execute_result"
    }
   ],
   "source": [
    "type(sudh)"
   ]
  },
  {
   "cell_type": "code",
   "execution_count": 7,
   "id": "702161f3-5ab4-4689-9c4e-f91209c71abf",
   "metadata": {},
   "outputs": [
    {
     "data": {
      "text/plain": [
       "int"
      ]
     },
     "execution_count": 7,
     "metadata": {},
     "output_type": "execute_result"
    }
   ],
   "source": [
    "type(a)"
   ]
  },
  {
   "cell_type": "code",
   "execution_count": 8,
   "id": "210cf13a-d36a-48ee-b9d6-0de069aa5842",
   "metadata": {},
   "outputs": [],
   "source": [
    "s = 'reddit'"
   ]
  },
  {
   "cell_type": "code",
   "execution_count": 9,
   "id": "f12c11ad-388d-4af4-84a5-6afbc7257d2c",
   "metadata": {},
   "outputs": [
    {
     "data": {
      "text/plain": [
       "str"
      ]
     },
     "execution_count": 9,
     "metadata": {},
     "output_type": "execute_result"
    }
   ],
   "source": [
    "type(s)"
   ]
  },
  {
   "cell_type": "code",
   "execution_count": 10,
   "id": "d79af386-7824-48b8-ba3d-e7a6aff617c0",
   "metadata": {},
   "outputs": [],
   "source": [
    "s1 = \"this is my first python program\""
   ]
  },
  {
   "cell_type": "code",
   "execution_count": 11,
   "id": "eecab90a-bbad-419b-ae48-1101ad42b901",
   "metadata": {},
   "outputs": [
    {
     "data": {
      "text/plain": [
       "str"
      ]
     },
     "execution_count": 11,
     "metadata": {},
     "output_type": "execute_result"
    }
   ],
   "source": [
    "type(s1)"
   ]
  },
  {
   "cell_type": "code",
   "execution_count": 12,
   "id": "7e3f46b3-0e35-4b68-b91c-bafba87567c8",
   "metadata": {},
   "outputs": [],
   "source": [
    "f = 456.42342"
   ]
  },
  {
   "cell_type": "code",
   "execution_count": 13,
   "id": "ba8254cb-365d-47db-b4d0-349ddfea3ad6",
   "metadata": {},
   "outputs": [
    {
     "data": {
      "text/plain": [
       "float"
      ]
     },
     "execution_count": 13,
     "metadata": {},
     "output_type": "execute_result"
    }
   ],
   "source": [
    "type(f)"
   ]
  },
  {
   "cell_type": "code",
   "execution_count": 14,
   "id": "7e3346ed-a8cd-48a3-89f4-5b513b965fd1",
   "metadata": {},
   "outputs": [],
   "source": [
    "c = 5 + 6j # in the form of a + bi where a is real number and i^2 = -1 but in python its in form of a + bj"
   ]
  },
  {
   "cell_type": "code",
   "execution_count": 15,
   "id": "a0710317-57fa-4bc3-bff2-fc8a4b38599c",
   "metadata": {},
   "outputs": [
    {
     "data": {
      "text/plain": [
       "complex"
      ]
     },
     "execution_count": 15,
     "metadata": {},
     "output_type": "execute_result"
    }
   ],
   "source": [
    "type(c)"
   ]
  },
  {
   "cell_type": "code",
   "execution_count": 17,
   "id": "aa402b82-1698-4131-9f80-3ea578365c51",
   "metadata": {},
   "outputs": [
    {
     "data": {
      "text/plain": [
       "5.0"
      ]
     },
     "execution_count": 17,
     "metadata": {},
     "output_type": "execute_result"
    }
   ],
   "source": [
    "# to get real part from complex number\n",
    "c.real"
   ]
  },
  {
   "cell_type": "code",
   "execution_count": 18,
   "id": "1063026d-23a3-428c-a171-534720cacfe0",
   "metadata": {},
   "outputs": [
    {
     "data": {
      "text/plain": [
       "6.0"
      ]
     },
     "execution_count": 18,
     "metadata": {},
     "output_type": "execute_result"
    }
   ],
   "source": [
    "# to get the imaginary number from complex number\n",
    "c.imag"
   ]
  },
  {
   "cell_type": "code",
   "execution_count": 19,
   "id": "de246ebd-e3fa-4902-85fc-cbced0c8978a",
   "metadata": {},
   "outputs": [],
   "source": [
    "b = True"
   ]
  },
  {
   "cell_type": "code",
   "execution_count": 20,
   "id": "99be0016-a6ba-4d19-84fe-de132f6f5245",
   "metadata": {},
   "outputs": [
    {
     "data": {
      "text/plain": [
       "bool"
      ]
     },
     "execution_count": 20,
     "metadata": {},
     "output_type": "execute_result"
    }
   ],
   "source": [
    "type(b)"
   ]
  },
  {
   "cell_type": "code",
   "execution_count": 21,
   "id": "f6501e66-25cc-421f-a3d5-81310facd99e",
   "metadata": {},
   "outputs": [],
   "source": [
    "b1 = False"
   ]
  },
  {
   "cell_type": "code",
   "execution_count": 22,
   "id": "03902383-d2f8-4c3d-8dd6-70317abe19f2",
   "metadata": {},
   "outputs": [
    {
     "data": {
      "text/plain": [
       "False"
      ]
     },
     "execution_count": 22,
     "metadata": {},
     "output_type": "execute_result"
    }
   ],
   "source": [
    "b1"
   ]
  },
  {
   "cell_type": "code",
   "execution_count": 23,
   "id": "489d505b-4976-4489-aeec-8fe21463ac77",
   "metadata": {},
   "outputs": [
    {
     "data": {
      "text/plain": [
       "bool"
      ]
     },
     "execution_count": 23,
     "metadata": {},
     "output_type": "execute_result"
    }
   ],
   "source": [
    "type(b1)"
   ]
  },
  {
   "cell_type": "code",
   "execution_count": 24,
   "id": "63e2bba5-614a-4356-a537-83a33e7004ec",
   "metadata": {},
   "outputs": [],
   "source": [
    "a1 = 45\n",
    "a2 = 34"
   ]
  },
  {
   "cell_type": "code",
   "execution_count": 25,
   "id": "73a4d90c-fb8f-4512-b295-aca52dbfbc87",
   "metadata": {},
   "outputs": [
    {
     "data": {
      "text/plain": [
       "79"
      ]
     },
     "execution_count": 25,
     "metadata": {},
     "output_type": "execute_result"
    }
   ],
   "source": [
    "a1 + a2"
   ]
  },
  {
   "cell_type": "code",
   "execution_count": 26,
   "id": "5f00f467-515c-41a7-b61d-3445e6f5898a",
   "metadata": {},
   "outputs": [
    {
     "data": {
      "text/plain": [
       "1530"
      ]
     },
     "execution_count": 26,
     "metadata": {},
     "output_type": "execute_result"
    }
   ],
   "source": [
    "a1 * a2"
   ]
  },
  {
   "cell_type": "code",
   "execution_count": 27,
   "id": "f29160dc-1056-4147-a1ca-5642cf0c54ac",
   "metadata": {},
   "outputs": [
    {
     "data": {
      "text/plain": [
       "1.3235294117647058"
      ]
     },
     "execution_count": 27,
     "metadata": {},
     "output_type": "execute_result"
    }
   ],
   "source": [
    "a1 / a2"
   ]
  },
  {
   "cell_type": "code",
   "execution_count": 28,
   "id": "3c3d17ed-9036-440e-bccb-1313e7c69cf7",
   "metadata": {},
   "outputs": [
    {
     "data": {
      "text/plain": [
       "11"
      ]
     },
     "execution_count": 28,
     "metadata": {},
     "output_type": "execute_result"
    }
   ],
   "source": [
    "a1 - a2"
   ]
  },
  {
   "cell_type": "code",
   "execution_count": 29,
   "id": "264d00a0-8da2-4f26-abef-d52193bb5544",
   "metadata": {},
   "outputs": [],
   "source": [
    "a1, a2 = 34, 45"
   ]
  },
  {
   "cell_type": "code",
   "execution_count": 30,
   "id": "a859147b-11dd-4096-b27f-b4788e825541",
   "metadata": {},
   "outputs": [
    {
     "data": {
      "text/plain": [
       "34"
      ]
     },
     "execution_count": 30,
     "metadata": {},
     "output_type": "execute_result"
    }
   ],
   "source": [
    "a1"
   ]
  },
  {
   "cell_type": "code",
   "execution_count": 31,
   "id": "74128a62-db0b-4143-934b-71fa6bf42c68",
   "metadata": {},
   "outputs": [
    {
     "data": {
      "text/plain": [
       "45"
      ]
     },
     "execution_count": 31,
     "metadata": {},
     "output_type": "execute_result"
    }
   ],
   "source": [
    "a2"
   ]
  },
  {
   "cell_type": "code",
   "execution_count": 32,
   "id": "8cd5a7fa-a2c2-4434-b1c5-62321c695ba7",
   "metadata": {},
   "outputs": [],
   "source": [
    "a, b, c, d = 354, 'sudh', 34.34, True"
   ]
  },
  {
   "cell_type": "code",
   "execution_count": 33,
   "id": "bd672386-49d0-4b13-8c77-c8251bf1d94f",
   "metadata": {},
   "outputs": [],
   "source": [
    "_a = 345"
   ]
  },
  {
   "cell_type": "code",
   "execution_count": 34,
   "id": "09da7e46-f1b2-4b3a-abc4-d8a0a1d89232",
   "metadata": {},
   "outputs": [
    {
     "data": {
      "text/plain": [
       "345"
      ]
     },
     "execution_count": 34,
     "metadata": {},
     "output_type": "execute_result"
    }
   ],
   "source": [
    "_a"
   ]
  },
  {
   "cell_type": "code",
   "execution_count": 35,
   "id": "c3a14d95-c570-4793-a1f9-df35b2e5d40f",
   "metadata": {},
   "outputs": [],
   "source": [
    "b1 = True\n",
    "b2 = False"
   ]
  },
  {
   "cell_type": "code",
   "execution_count": 36,
   "id": "28f25511-2f0d-4f6b-84a6-d9fd3a4e87f5",
   "metadata": {},
   "outputs": [
    {
     "data": {
      "text/plain": [
       "1"
      ]
     },
     "execution_count": 36,
     "metadata": {},
     "output_type": "execute_result"
    }
   ],
   "source": [
    "b1 - b2"
   ]
  },
  {
   "cell_type": "code",
   "execution_count": 37,
   "id": "3a7201b2-fc8c-4313-bb75-cdc43979003c",
   "metadata": {},
   "outputs": [
    {
     "data": {
      "text/plain": [
       "1"
      ]
     },
     "execution_count": 37,
     "metadata": {},
     "output_type": "execute_result"
    }
   ],
   "source": [
    "b1 * b1"
   ]
  },
  {
   "cell_type": "code",
   "execution_count": 38,
   "id": "ad59c3a8-e994-4f4b-b7db-4b5db3b0d71d",
   "metadata": {},
   "outputs": [
    {
     "ename": "ZeroDivisionError",
     "evalue": "division by zero",
     "output_type": "error",
     "traceback": [
      "\u001b[0;31m---------------------------------------------------------------------------\u001b[0m",
      "\u001b[0;31mZeroDivisionError\u001b[0m                         Traceback (most recent call last)",
      "Cell \u001b[0;32mIn[38], line 1\u001b[0m\n\u001b[0;32m----> 1\u001b[0m \u001b[43mb1\u001b[49m\u001b[43m \u001b[49m\u001b[38;5;241;43m/\u001b[39;49m\u001b[43m \u001b[49m\u001b[43mb2\u001b[49m\n",
      "\u001b[0;31mZeroDivisionError\u001b[0m: division by zero"
     ]
    }
   ],
   "source": [
    "b1 / b2"
   ]
  },
  {
   "cell_type": "code",
   "execution_count": 39,
   "id": "293451c7-7bba-41f9-8154-72473b2e2cb0",
   "metadata": {},
   "outputs": [],
   "source": [
    "s1 = 'my name is jeff'"
   ]
  },
  {
   "cell_type": "code",
   "execution_count": 40,
   "id": "18b7e94f-5712-4437-bfb5-9fb9edaff3af",
   "metadata": {},
   "outputs": [
    {
     "data": {
      "text/plain": [
       "'my name is jeff'"
      ]
     },
     "execution_count": 40,
     "metadata": {},
     "output_type": "execute_result"
    }
   ],
   "source": [
    "s1"
   ]
  },
  {
   "cell_type": "code",
   "execution_count": 41,
   "id": "df4337ca-ed8a-40b7-b31b-2b0c846e04d9",
   "metadata": {},
   "outputs": [
    {
     "data": {
      "text/plain": [
       "str"
      ]
     },
     "execution_count": 41,
     "metadata": {},
     "output_type": "execute_result"
    }
   ],
   "source": [
    "type(s1)"
   ]
  },
  {
   "cell_type": "code",
   "execution_count": 42,
   "id": "70b5e09c-0fc9-4d19-833f-277d1a21521b",
   "metadata": {},
   "outputs": [
    {
     "ename": "SyntaxError",
     "evalue": "unterminated string literal (detected at line 1) (1904299158.py, line 1)",
     "output_type": "error",
     "traceback": [
      "\u001b[0;36m  Cell \u001b[0;32mIn[42], line 1\u001b[0;36m\u001b[0m\n\u001b[0;31m    s2 = 'Welcome to Jimmie's Burger'\u001b[0m\n\u001b[0m                                    ^\u001b[0m\n\u001b[0;31mSyntaxError\u001b[0m\u001b[0;31m:\u001b[0m unterminated string literal (detected at line 1)\n"
     ]
    }
   ],
   "source": [
    "s2 = 'Welcome to Jimmie's Burger'"
   ]
  },
  {
   "cell_type": "code",
   "execution_count": 43,
   "id": "e99bdbc3-4394-4e42-849e-4fbae2635903",
   "metadata": {},
   "outputs": [],
   "source": [
    "s2 = \"Welcome to Jimmie's Burger\""
   ]
  },
  {
   "cell_type": "code",
   "execution_count": 44,
   "id": "dc7cc304-6f04-4188-a149-9d5bdc164d5b",
   "metadata": {},
   "outputs": [
    {
     "data": {
      "text/plain": [
       "\"Welcome to Jimmie's Burger\""
      ]
     },
     "execution_count": 44,
     "metadata": {},
     "output_type": "execute_result"
    }
   ],
   "source": [
    "s2"
   ]
  },
  {
   "cell_type": "code",
   "execution_count": 45,
   "id": "d9e25c3e-5cd0-4006-9d33-0dbf408b797b",
   "metadata": {},
   "outputs": [],
   "source": [
    "# this is my code to create a string variable with quotes\n",
    "\n",
    "s2 = 'Welcome to Jimmie\"s Burger'"
   ]
  },
  {
   "cell_type": "code",
   "execution_count": 46,
   "id": "be82e464-e01f-4cda-83d6-a73c96852e7e",
   "metadata": {},
   "outputs": [
    {
     "data": {
      "text/plain": [
       "'Welcome to Jimmie\"s Burger'"
      ]
     },
     "execution_count": 46,
     "metadata": {},
     "output_type": "execute_result"
    }
   ],
   "source": [
    "s2"
   ]
  },
  {
   "cell_type": "code",
   "execution_count": 48,
   "id": "c0ee6120-3110-490a-9a23-c5eb3e6f8e01",
   "metadata": {},
   "outputs": [],
   "source": [
    "# this is my first python class \n",
    "# i am trying to learn variable declaration\n",
    "# so far i have learn int, boolean, string, complex number, float variable declaration\n",
    "\n",
    "a = 10"
   ]
  },
  {
   "cell_type": "code",
   "execution_count": 49,
   "id": "40b00cee-2ddf-4d88-8ae5-b35dd5edc9e3",
   "metadata": {},
   "outputs": [],
   "source": [
    "'''this is my first python class \n",
    "i am trying to learn variable declaration\n",
    "so far i have learn int, boolean, string, complex number, float variable declaration'''\n",
    "\n",
    "a = 10"
   ]
  },
  {
   "cell_type": "code",
   "execution_count": 50,
   "id": "af765bf3-f1f7-4f47-84db-3edc27281616",
   "metadata": {},
   "outputs": [],
   "source": [
    "s1 = \"sudh\""
   ]
  },
  {
   "cell_type": "code",
   "execution_count": 51,
   "id": "be7e1477-426e-4c21-b317-d2c24c2bbafc",
   "metadata": {},
   "outputs": [],
   "source": [
    "a = 10"
   ]
  },
  {
   "cell_type": "code",
   "execution_count": 52,
   "id": "9f091cdb-2e3e-44d0-a59a-0865f87dd989",
   "metadata": {},
   "outputs": [
    {
     "ename": "TypeError",
     "evalue": "can only concatenate str (not \"int\") to str",
     "output_type": "error",
     "traceback": [
      "\u001b[0;31m---------------------------------------------------------------------------\u001b[0m",
      "\u001b[0;31mTypeError\u001b[0m                                 Traceback (most recent call last)",
      "Cell \u001b[0;32mIn[52], line 1\u001b[0m\n\u001b[0;32m----> 1\u001b[0m \u001b[43ms1\u001b[49m\u001b[43m \u001b[49m\u001b[38;5;241;43m+\u001b[39;49m\u001b[43m \u001b[49m\u001b[43ma\u001b[49m\n",
      "\u001b[0;31mTypeError\u001b[0m: can only concatenate str (not \"int\") to str"
     ]
    }
   ],
   "source": [
    "s1 + a"
   ]
  },
  {
   "cell_type": "code",
   "execution_count": 53,
   "id": "c786c525-6d29-4ff2-88d3-9cf83f1f930d",
   "metadata": {},
   "outputs": [
    {
     "data": {
      "text/plain": [
       "'sudhkumar'"
      ]
     },
     "execution_count": 53,
     "metadata": {},
     "output_type": "execute_result"
    }
   ],
   "source": [
    "'sudh' + 'kumar'"
   ]
  },
  {
   "cell_type": "code",
   "execution_count": 54,
   "id": "a1c0c6d5-d694-4904-8e14-33262046525b",
   "metadata": {},
   "outputs": [
    {
     "data": {
      "text/plain": [
       "'sudh10'"
      ]
     },
     "execution_count": 54,
     "metadata": {},
     "output_type": "execute_result"
    }
   ],
   "source": [
    "s1 + str(a)"
   ]
  },
  {
   "cell_type": "code",
   "execution_count": 55,
   "id": "153d9d30-cb43-4316-9904-67460d6f96a4",
   "metadata": {},
   "outputs": [
    {
     "data": {
      "text/plain": [
       "'sudh 10'"
      ]
     },
     "execution_count": 55,
     "metadata": {},
     "output_type": "execute_result"
    }
   ],
   "source": [
    "s1 + \" \" + str(10)"
   ]
  },
  {
   "cell_type": "code",
   "execution_count": 61,
   "id": "16f524b3-447c-45ee-ba2c-21b1cf5dc415",
   "metadata": {},
   "outputs": [
    {
     "name": "stdin",
     "output_type": "stream",
     "text": [
      " 235\n"
     ]
    }
   ],
   "source": [
    "b = input()"
   ]
  },
  {
   "cell_type": "code",
   "execution_count": 62,
   "id": "4b4ac54e-0481-4190-8681-43b21d0af7b3",
   "metadata": {},
   "outputs": [
    {
     "data": {
      "text/plain": [
       "'235'"
      ]
     },
     "execution_count": 62,
     "metadata": {},
     "output_type": "execute_result"
    }
   ],
   "source": [
    "b"
   ]
  },
  {
   "cell_type": "code",
   "execution_count": 63,
   "id": "6eb90431-bb82-4503-a806-ea941aa7b9f0",
   "metadata": {},
   "outputs": [
    {
     "data": {
      "text/plain": [
       "str"
      ]
     },
     "execution_count": 63,
     "metadata": {},
     "output_type": "execute_result"
    }
   ],
   "source": [
    "type(b)"
   ]
  },
  {
   "cell_type": "code",
   "execution_count": 64,
   "id": "117fb511-8c83-46d7-ae3f-dc571c88f52f",
   "metadata": {},
   "outputs": [
    {
     "name": "stdin",
     "output_type": "stream",
     "text": [
      " 12312\n"
     ]
    }
   ],
   "source": [
    "c = input()"
   ]
  },
  {
   "cell_type": "code",
   "execution_count": 65,
   "id": "f45cf9bf-05e0-4a92-8744-81b1cadad8c0",
   "metadata": {},
   "outputs": [
    {
     "data": {
      "text/plain": [
       "'12312'"
      ]
     },
     "execution_count": 65,
     "metadata": {},
     "output_type": "execute_result"
    }
   ],
   "source": [
    "c"
   ]
  },
  {
   "cell_type": "code",
   "execution_count": 66,
   "id": "1973c61b-bdb7-4f88-bb51-26cb72c78189",
   "metadata": {},
   "outputs": [
    {
     "data": {
      "text/plain": [
       "12312"
      ]
     },
     "execution_count": 66,
     "metadata": {},
     "output_type": "execute_result"
    }
   ],
   "source": [
    "int(c)"
   ]
  },
  {
   "cell_type": "code",
   "execution_count": 69,
   "id": "72f926e1-dd93-4f2f-891a-51cd9b86395f",
   "metadata": {},
   "outputs": [
    {
     "name": "stdin",
     "output_type": "stream",
     "text": [
      " 3124\n"
     ]
    },
    {
     "name": "stdout",
     "output_type": "stream",
     "text": [
      "3124\n"
     ]
    },
    {
     "data": {
      "text/plain": [
       "int"
      ]
     },
     "execution_count": 69,
     "metadata": {},
     "output_type": "execute_result"
    }
   ],
   "source": [
    "d = int(input())\n",
    "print(d)\n",
    "type(d)"
   ]
  },
  {
   "cell_type": "code",
   "execution_count": 79,
   "id": "6b881ce8-56aa-4578-9d3a-ea20b0e3087a",
   "metadata": {},
   "outputs": [],
   "source": [
    "s = 'sudh'"
   ]
  },
  {
   "cell_type": "code",
   "execution_count": 80,
   "id": "d573b203-92f2-4174-8fcf-a126933efcd6",
   "metadata": {},
   "outputs": [
    {
     "data": {
      "text/plain": [
       "'u'"
      ]
     },
     "execution_count": 80,
     "metadata": {},
     "output_type": "execute_result"
    }
   ],
   "source": [
    "s[1]"
   ]
  },
  {
   "cell_type": "code",
   "execution_count": 81,
   "id": "a0ce1266-4c88-4a52-91e8-f7235ae2f750",
   "metadata": {},
   "outputs": [
    {
     "data": {
      "text/plain": [
       "'h'"
      ]
     },
     "execution_count": 81,
     "metadata": {},
     "output_type": "execute_result"
    }
   ],
   "source": [
    "s[3]"
   ]
  },
  {
   "cell_type": "code",
   "execution_count": 82,
   "id": "a75b2db6-5b45-4bc8-a565-e5021a0e0a0b",
   "metadata": {},
   "outputs": [
    {
     "ename": "IndexError",
     "evalue": "string index out of range",
     "output_type": "error",
     "traceback": [
      "\u001b[0;31m---------------------------------------------------------------------------\u001b[0m",
      "\u001b[0;31mIndexError\u001b[0m                                Traceback (most recent call last)",
      "Cell \u001b[0;32mIn[82], line 1\u001b[0m\n\u001b[0;32m----> 1\u001b[0m \u001b[43ms\u001b[49m\u001b[43m[\u001b[49m\u001b[38;5;241;43m100\u001b[39;49m\u001b[43m]\u001b[49m\n",
      "\u001b[0;31mIndexError\u001b[0m: string index out of range"
     ]
    }
   ],
   "source": [
    "s[100]"
   ]
  },
  {
   "cell_type": "code",
   "execution_count": 83,
   "id": "a989c203-af48-4b53-a4ee-88e123c35eb7",
   "metadata": {},
   "outputs": [
    {
     "data": {
      "text/plain": [
       "'h'"
      ]
     },
     "execution_count": 83,
     "metadata": {},
     "output_type": "execute_result"
    }
   ],
   "source": [
    "s[-1]"
   ]
  },
  {
   "cell_type": "code",
   "execution_count": 84,
   "id": "be776a19-e67e-4e2b-9278-c027128ba642",
   "metadata": {},
   "outputs": [
    {
     "data": {
      "text/plain": [
       "'s'"
      ]
     },
     "execution_count": 84,
     "metadata": {},
     "output_type": "execute_result"
    }
   ],
   "source": [
    "s[-4]"
   ]
  },
  {
   "cell_type": "code",
   "execution_count": 85,
   "id": "e750810e-3b10-4196-860b-d939904795ae",
   "metadata": {},
   "outputs": [
    {
     "ename": "IndexError",
     "evalue": "string index out of range",
     "output_type": "error",
     "traceback": [
      "\u001b[0;31m---------------------------------------------------------------------------\u001b[0m",
      "\u001b[0;31mIndexError\u001b[0m                                Traceback (most recent call last)",
      "Cell \u001b[0;32mIn[85], line 1\u001b[0m\n\u001b[0;32m----> 1\u001b[0m \u001b[43ms\u001b[49m\u001b[43m[\u001b[49m\u001b[38;5;241;43m-\u001b[39;49m\u001b[38;5;241;43m356\u001b[39;49m\u001b[43m]\u001b[49m\n",
      "\u001b[0;31mIndexError\u001b[0m: string index out of range"
     ]
    }
   ],
   "source": [
    "s[-356]"
   ]
  },
  {
   "cell_type": "code",
   "execution_count": 87,
   "id": "0caacc53-c28f-4e1e-baaa-65fc7d6218ec",
   "metadata": {},
   "outputs": [],
   "source": [
    "s = 'facebook'"
   ]
  },
  {
   "cell_type": "code",
   "execution_count": 93,
   "id": "2b5e69bf-74db-4952-8e33-03de6749481d",
   "metadata": {},
   "outputs": [
    {
     "data": {
      "text/plain": [
       "'face'"
      ]
     },
     "execution_count": 93,
     "metadata": {},
     "output_type": "execute_result"
    }
   ],
   "source": [
    "s[0:4] # upper bound - 1"
   ]
  },
  {
   "cell_type": "code",
   "execution_count": 94,
   "id": "2ea17a09-b656-416d-b2a2-45202447340c",
   "metadata": {},
   "outputs": [
    {
     "data": {
      "text/plain": [
       "'book'"
      ]
     },
     "execution_count": 94,
     "metadata": {},
     "output_type": "execute_result"
    }
   ],
   "source": [
    "s[4:8]"
   ]
  },
  {
   "cell_type": "code",
   "execution_count": 95,
   "id": "7f0439bf-f53e-4833-90f1-e0f2e4006637",
   "metadata": {},
   "outputs": [
    {
     "data": {
      "text/plain": [
       "'book'"
      ]
     },
     "execution_count": 95,
     "metadata": {},
     "output_type": "execute_result"
    }
   ],
   "source": [
    "s[4:800]"
   ]
  },
  {
   "cell_type": "code",
   "execution_count": 96,
   "id": "deb32a27-e712-4a0a-8d9a-68fd7b961cb4",
   "metadata": {},
   "outputs": [
    {
     "data": {
      "text/plain": [
       "'book'"
      ]
     },
     "execution_count": 96,
     "metadata": {},
     "output_type": "execute_result"
    }
   ],
   "source": [
    "s[4:]"
   ]
  },
  {
   "cell_type": "code",
   "execution_count": 105,
   "id": "d34deebf-9882-478b-8b20-e6e2a7fb98fe",
   "metadata": {},
   "outputs": [
    {
     "data": {
      "text/plain": [
       "'facebook'"
      ]
     },
     "execution_count": 105,
     "metadata": {},
     "output_type": "execute_result"
    }
   ],
   "source": [
    "s[0:8:1] # where 1 is jump count"
   ]
  },
  {
   "cell_type": "code",
   "execution_count": 106,
   "id": "1f9e740d-7d04-4048-ab48-71bee7641864",
   "metadata": {},
   "outputs": [
    {
     "data": {
      "text/plain": [
       "'fcbo'"
      ]
     },
     "execution_count": 106,
     "metadata": {},
     "output_type": "execute_result"
    }
   ],
   "source": [
    "s[0:8:2]  "
   ]
  },
  {
   "cell_type": "code",
   "execution_count": 107,
   "id": "0019c5e8-9aaa-4b5a-b846-69828d5855e4",
   "metadata": {},
   "outputs": [
    {
     "data": {
      "text/plain": [
       "'koob'"
      ]
     },
     "execution_count": 107,
     "metadata": {},
     "output_type": "execute_result"
    }
   ],
   "source": [
    "s[-1:-5:-1]"
   ]
  },
  {
   "cell_type": "code",
   "execution_count": 109,
   "id": "b2fcbf69-628c-49e3-92e1-c168ddaa299d",
   "metadata": {},
   "outputs": [
    {
     "data": {
      "text/plain": [
       "'koobecaf'"
      ]
     },
     "execution_count": 109,
     "metadata": {},
     "output_type": "execute_result"
    }
   ],
   "source": [
    "s[-1:-9:-1]"
   ]
  },
  {
   "cell_type": "code",
   "execution_count": 110,
   "id": "a98ed78d-84df-4c28-bdfe-a13f91066705",
   "metadata": {},
   "outputs": [
    {
     "data": {
      "text/plain": [
       "'koobecaf'"
      ]
     },
     "execution_count": 110,
     "metadata": {},
     "output_type": "execute_result"
    }
   ],
   "source": [
    "s[::-1]"
   ]
  },
  {
   "cell_type": "code",
   "execution_count": 111,
   "id": "71e4753f-58e0-4a86-a66f-5a769086c04b",
   "metadata": {},
   "outputs": [
    {
     "data": {
      "text/plain": [
       "'facebook'"
      ]
     },
     "execution_count": 111,
     "metadata": {},
     "output_type": "execute_result"
    }
   ],
   "source": [
    "s"
   ]
  },
  {
   "cell_type": "code",
   "execution_count": 112,
   "id": "ceab5cd3-261c-4ee6-a895-e926c92c74ee",
   "metadata": {},
   "outputs": [
    {
     "data": {
      "text/plain": [
       "'f'"
      ]
     },
     "execution_count": 112,
     "metadata": {},
     "output_type": "execute_result"
    }
   ],
   "source": [
    "s[0]"
   ]
  },
  {
   "cell_type": "code",
   "execution_count": 114,
   "id": "bb5034a1-fd59-482f-9b9b-dd2d2471216e",
   "metadata": {},
   "outputs": [
    {
     "ename": "TypeError",
     "evalue": "'str' object does not support item assignment",
     "output_type": "error",
     "traceback": [
      "\u001b[0;31m---------------------------------------------------------------------------\u001b[0m",
      "\u001b[0;31mTypeError\u001b[0m                                 Traceback (most recent call last)",
      "Cell \u001b[0;32mIn[114], line 1\u001b[0m\n\u001b[0;32m----> 1\u001b[0m \u001b[43ms\u001b[49m\u001b[43m[\u001b[49m\u001b[38;5;241;43m0\u001b[39;49m\u001b[43m]\u001b[49m \u001b[38;5;241m=\u001b[39m \u001b[38;5;124m'\u001b[39m\u001b[38;5;124mp\u001b[39m\u001b[38;5;124m'\u001b[39m \u001b[38;5;66;03m# string is immutable and it cannot be changed\u001b[39;00m\n",
      "\u001b[0;31mTypeError\u001b[0m: 'str' object does not support item assignment"
     ]
    }
   ],
   "source": [
    "s[0] = 'p' # string is immutable and it cannot be changed"
   ]
  },
  {
   "cell_type": "code",
   "execution_count": null,
   "id": "2eb404b2-ba77-4ffc-a2b9-a540766e5b19",
   "metadata": {},
   "outputs": [],
   "source": []
  }
 ],
 "metadata": {
  "kernelspec": {
   "display_name": "Python 3 (ipykernel)",
   "language": "python",
   "name": "python3"
  },
  "language_info": {
   "codemirror_mode": {
    "name": "ipython",
    "version": 3
   },
   "file_extension": ".py",
   "mimetype": "text/x-python",
   "name": "python",
   "nbconvert_exporter": "python",
   "pygments_lexer": "ipython3",
   "version": "3.13.1"
  }
 },
 "nbformat": 4,
 "nbformat_minor": 5
}
